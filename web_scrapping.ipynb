{
 "cells": [
  {
   "cell_type": "code",
   "execution_count": 1,
   "metadata": {},
   "outputs": [
    {
     "data": {
      "text/plain": [
       "<!DOCTYPE html>\n",
       "<html>\n",
       "<head><meta content='\\\"width=device-width,' initial-scale=\"1.0,\" name='\\\"viewport\\\"' user-scalable='no\\\"'/>\n",
       "<title>Forest Status</title>\n",
       "</head>\n",
       "<body>\n",
       "<h1>Sensor reradings</h1>\n",
       "<h3>Using Station Mode(STA) Mode</h3>\n",
       "<p>Humidity:34.54</p>\n",
       "<p>Temperature:Something's wrong!</p>\n",
       "</body>\n",
       "</html>"
      ]
     },
     "execution_count": 1,
     "metadata": {},
     "output_type": "execute_result"
    }
   ],
   "source": [
    "from bs4 import BeautifulSoup\n",
    "f = open(\"C:/Users/Samprat/Desktop/temp.html\")     \n",
    "soup = BeautifulSoup(f)\n",
    "f.close()\n",
    "soup"
   ]
  },
  {
   "cell_type": "code",
   "execution_count": 96,
   "metadata": {},
   "outputs": [
    {
     "name": "stdout",
     "output_type": "stream",
     "text": [
      "Humidity:34.54 Temperature:Something's wrong!\n"
     ]
    }
   ],
   "source": [
    "f = open(\"C:/Users/Samprat/Desktop/temp.html\",\"r\")\n",
    "s = f.read()\n",
    "s1=s.split(\"<p>\")\n",
    "sh=s1[1].split(\"</p>\")\n",
    "st=s1[2].split(\"</p>\")\n",
    "\n",
    "print(sh[0],st[0])"
   ]
  },
  {
   "cell_type": "code",
   "execution_count": 98,
   "metadata": {},
   "outputs": [
    {
     "name": "stdout",
     "output_type": "stream",
     "text": [
      "34.54 Something's wrong!\n"
     ]
    }
   ],
   "source": [
    "sh1=sh[0].split(\":\")\n",
    "st1=st[0].split(\":\")\n",
    "\n",
    "shv=sh1[1]\n",
    "stv=st1[1]\n",
    "\n",
    "print(shv,stv)"
   ]
  },
  {
   "cell_type": "code",
   "execution_count": 110,
   "metadata": {},
   "outputs": [],
   "source": [
    "import csv \n",
    "#fields = ['Time', 'Humidity', 'Temperature'] \n",
    "\n",
    "rows= [datetime.datetime.now().strftime(\"%Y-%m-%d %H:%M:%S\"),shv,stv]\n",
    "\n",
    "filename = \"readings.csv\"\n",
    "\n",
    "with open(filename, 'a') as csvfile: \n",
    "    csvwriter = csv.writer(csvfile) \n",
    "    csvwriter.writerow(rows)"
   ]
  },
  {
   "cell_type": "code",
   "execution_count": null,
   "metadata": {},
   "outputs": [],
   "source": []
  },
  {
   "cell_type": "code",
   "execution_count": null,
   "metadata": {},
   "outputs": [],
   "source": []
  }
 ],
 "metadata": {
  "kernelspec": {
   "display_name": "Python 3",
   "language": "python",
   "name": "python3"
  },
  "language_info": {
   "codemirror_mode": {
    "name": "ipython",
    "version": 3
   },
   "file_extension": ".py",
   "mimetype": "text/x-python",
   "name": "python",
   "nbconvert_exporter": "python",
   "pygments_lexer": "ipython3",
   "version": "3.7.4"
  }
 },
 "nbformat": 4,
 "nbformat_minor": 2
}
